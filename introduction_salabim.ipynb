{
 "cells": [
  {
   "cell_type": "markdown",
   "id": "3954a972",
   "metadata": {},
   "source": [
    "# <font color=blue> Introduction to salabim</font>"
   ]
  },
  {
   "cell_type": "markdown",
   "id": "a792de3a",
   "metadata": {},
   "source": [
    "<table align=\"left\">\n",
    "  <tr style=\"vertical-align:top\">    \n",
    "    <td width=\"800\" style=\"vertical-align: top\">\n",
    "      <p style=\"font-family: Arial; font-size: 14px;\">\n",
    "salabim is package for discrete event simulation in Python<br>\n",
    "Discrete event simulation is a form of parallel programming were alot of things happen at the same time<br><br>         \n",
    "They key elements in salabim are components which are the entities (or objects) flowing through the system<br>\n",
    "Our model can be represented by a block diagram through which our components flow (as if they are pin balls)<br>   \n",
    "A salabim user has compelete control over the machine (process) to determine where, when and how they are moving<br>\n",
    "This methodology is known as the process driven Discrete Event paradigm and originates from Simula (Nygaard 1967)<br></p>\n",
    "    </td>\n",
    "    <td><img src=\"salabim_logo.png\" alt=\"example image\" width=\"300\" height=\"300\" align=\"right\"/></td>  \n",
    "  </tr>\n",
    "</table>"
   ]
  },
  {
   "cell_type": "markdown",
   "id": "bfe1ffb5",
   "metadata": {},
   "source": [
    "<img src=\"Process_centric.png\" alt=\"process centric\" width=\"500\" height=\"500\" align=\"center\"/>"
   ]
  },
  {
   "cell_type": "markdown",
   "id": "41ef5691",
   "metadata": {},
   "source": [
    "There are two key building blocks essential to using salabim\n",
    "\n",
    "- The simulation environment that manages the simulation.\n",
    "- Components with process (class) methods to model system behavior."
   ]
  },
  {
   "cell_type": "markdown",
   "id": "219c3906",
   "metadata": {},
   "source": [
    "#### <font color=green><mark>The simulation environment</font></mark>"
   ]
  },
  {
   "cell_type": "markdown",
   "id": "6cfec677",
   "metadata": {},
   "source": [
    "A simulation environment is created with sim.Environment(). <br>\n",
    "The resulting object provides a collection of methods for setting and managing the simulation."
   ]
  },
  {
   "cell_type": "code",
   "execution_count": 2,
   "id": "77bc1c02",
   "metadata": {},
   "outputs": [
    {
     "name": "stdout",
     "output_type": "stream",
     "text": [
      "time =  5\n"
     ]
    }
   ],
   "source": [
    "import salabim as sim\n",
    "\n",
    "env = sim.Environment()\n",
    "\n",
    "env.run(5)\n",
    "print(\"time = \", env.now())"
   ]
  },
  {
   "cell_type": "markdown",
   "id": "33ab14bc",
   "metadata": {},
   "source": [
    "The above code snippet creates and runs a simulation of (5 time units)<br> \n",
    "But since no components were defined there are no events to step through<br>\n",
    "Therefor the time jumps immediately from 0 to 5 without performing any tasks<br> "
   ]
  },
  {
   "cell_type": "markdown",
   "id": "33d8d9f1",
   "metadata": {},
   "source": [
    "#### <font color=green><mark>Process methods </font></mark>"
   ]
  },
  {
   "cell_type": "markdown",
   "id": "0bfac94a",
   "metadata": {},
   "source": [
    "System behavior is added trough components interacting with each other through their processes methods.<br>\n",
    "A process communicates with the simulation environment through the yield statement (a key feature of salabim)<br>\n",
    "In python the yield statement temporarily suspends a function's execution and saves it's current state<br>"
   ]
  },
  {
   "cell_type": "markdown",
   "id": "5eb3ac9f",
   "metadata": {},
   "source": [
    "A salabim component inherits from sim.Component() and as such inherits all functionality<br>\n",
    "Normally a salabim component class has its own process method which starts automatically upon env.run()<br>\n",
    "\n",
    "It requires at least one yield statement in order to hand control to the salabim time event mechanism<br>\n",
    "In below example there is one yield (hold), which hands control to the event scheduler <br>\n",
    "The component is then placed on the FEL which turns it into a 'scheduled' state until one (1) time unit has passed.<br>\n",
    "It then returns to the process of the component and continues the code in a so called 'current' state<br>\n"
   ]
  },
  {
   "cell_type": "markdown",
   "id": "889ee09a",
   "metadata": {},
   "source": [
    "In the below process method there are no more statements after the yield statement<br>\n",
    "Thus the process method terminates and the component gets into a so called state of 'data'. <br>\n",
    "This means the process method no longer runs (unless the component is reactivated later).<br>"
   ]
  },
  {
   "cell_type": "code",
   "execution_count": 3,
   "id": "08b57a6b",
   "metadata": {
    "collapsed": true
   },
   "outputs": [
    {
     "name": "stdout",
     "output_type": "stream",
     "text": [
      "line#        time current component    action                               information\n",
      "------ ---------- -------------------- -----------------------------------  ------------------------------------------------\n",
      "                                       line numbers refers to               4157391535.py\n",
      "   12                                  default environment initialize       \n",
      "   12                                  main create                          \n",
      "   12       0.000 main                 current                              \n",
      "   14                                  person.0 create                      \n",
      "   14                                  person.0 activate                    scheduled for 0.000 @    8+ process=process\n",
      "   17                                  main run +10.000                     scheduled for 10.000 @   17+\n",
      "    8+      0.000 person.0             current                              \n",
      "    9                                  person.0 hold +1.000                 scheduled for 1.000 @    9+\n",
      "    9+      1.000 person.0             current                              \n",
      "    9+                                 person.0 ended                       \n",
      "   17+     10.000 main                 current                              \n"
     ]
    }
   ],
   "source": [
    "# import statement of salabim with alias sim\n",
    "import salabim as sim\n",
    "\n",
    "#Definition of a 'component' inheriting from the Component class \n",
    "class Person(sim.Component):\n",
    "    \n",
    "    # the process method automatically runs once the simulation starts i.e. env.run() \n",
    "    def process(self):        \n",
    "        yield self.hold(1)\n",
    "        \n",
    "# each salabim simulation needs a environment        \n",
    "env=sim.Environment(trace=True)\n",
    "\n",
    "Person()\n",
    "\n",
    "# the simulation is run through this statement.\n",
    "env.run(10)\n",
    "        "
   ]
  },
  {
   "cell_type": "markdown",
   "id": "dab1f263",
   "metadata": {},
   "source": [
    "When introducing a infinite while True loop the person keeps on walking and resting as below:"
   ]
  },
  {
   "cell_type": "code",
   "execution_count": 5,
   "id": "25093dfe",
   "metadata": {},
   "outputs": [
    {
     "name": "stdout",
     "output_type": "stream",
     "text": [
      "line#        time current component    action                               information\n",
      "------ ---------- -------------------- -----------------------------------  ------------------------------------------------\n",
      "                                       line numbers refers to               53082488.py\n",
      "    9                                  default environment initialize       \n",
      "    9                                  main create                          \n",
      "    9       0.000 main                 current                              \n",
      "   11                                  person.0 create                      \n",
      "   11                                  person.0 activate                    scheduled for 0.000 @    4+ process=process\n",
      "   13                                  main run +5.000                      scheduled for 5.000 @   13+\n",
      "    4+      0.000 person.0             current                              \n",
      "    6                                  person.0 hold +2.000                 scheduled for 2.000 @    6+ mode=walk\n",
      "    6+      2.000 person.0             current                              \n",
      "    7                                  person.0 hold +0.500                 scheduled for 2.500 @    7+ mode=rest\n",
      "    7+      2.500 person.0             current                              \n",
      "    6                                  person.0 hold +2.000                 scheduled for 4.500 @    6+ mode=walk\n",
      "    6+      4.500 person.0             current                              \n",
      "    7                                  person.0 hold +0.500                 scheduled for 5.000 @    7+ mode=rest\n",
      "    7+      5.000 person.0             current                              \n",
      "    6                                  person.0 hold +2.000                 scheduled for 7.000 @    6+ mode=walk\n",
      "   13+      5.000 main                 current                              \n"
     ]
    }
   ],
   "source": [
    "import salabim as sim\n",
    "\n",
    "class Person(sim.Component):     \n",
    "    def process(self):        \n",
    "        while True:\n",
    "            yield self.hold(2,mode='walk')\n",
    "            yield self.hold(0.5,mode='rest')\n",
    "\n",
    "env=sim.Environment(trace=True)\n",
    "\n",
    "Person()\n",
    "\n",
    "env.run(5)"
   ]
  },
  {
   "cell_type": "markdown",
   "id": "398800ba",
   "metadata": {},
   "source": [
    "The process method may be named differently but then needs to be initialised differently as per below:"
   ]
  },
  {
   "cell_type": "code",
   "execution_count": 10,
   "id": "c15c0f0a",
   "metadata": {},
   "outputs": [
    {
     "name": "stdout",
     "output_type": "stream",
     "text": [
      "line#        time current component    action                               information\n",
      "------ ---------- -------------------- -----------------------------------  ------------------------------------------------\n",
      "                                       line numbers refers to               3293430043.py\n",
      "    7                                  default environment initialize       \n",
      "    7                                  main create                          \n",
      "    7       0.000 main                 current                              \n",
      "    9                                  person.0 create                      \n",
      "    9                                  person.0 activate                    scheduled for 0.000 @    4+ process=walking\n",
      "   11                                  main run +10.000                     scheduled for 10.000 @   11+\n",
      "    4+      0.000 person.0             current                              \n",
      "    5                                  person.0 hold +1.000                 scheduled for 1.000 @    5+\n",
      "    5+      1.000 person.0             current                              \n",
      "    5+                                 person.0 ended                       \n",
      "   11+     10.000 main                 current                              \n"
     ]
    }
   ],
   "source": [
    "import salabim as sim\n",
    "\n",
    "class Person(sim.Component):\n",
    "    def walking(self):        \n",
    "        yield self.hold(1)       \n",
    "   \n",
    "env=sim.Environment(trace=True)\n",
    "\n",
    "Person(process='walking')\n",
    "\n",
    "env.run(10)"
   ]
  },
  {
   "cell_type": "markdown",
   "id": "951140de",
   "metadata": {},
   "source": [
    "## <font color=blue> Concept of State, process interaction and FEL</font>"
   ]
  },
  {
   "cell_type": "markdown",
   "id": "24cae40c",
   "metadata": {},
   "source": [
    "Components in Salabim can only be in one of these eight states: <br>\n",
    "\n",
    "- data\n",
    "- current\n",
    "- scheduled\n",
    "- passive\n",
    "- requesting\n",
    "- waiting\n",
    "- standby\n",
    "- interrupted"
   ]
  },
  {
   "cell_type": "markdown",
   "id": "4445110e",
   "metadata": {},
   "source": [
    "For a component to change between states the following process interaction methods are defined.<br>\n",
    "These (component) methods have a lot of functionality which cannot be fully covered here, in simple terms:<br>\n",
    "\n",
    "\n",
    "<table align=\"left\" style=\"font-family: Arial; font-size: 14px;\">\n",
    "<thead>\n",
    "<tr><th style=\"text-align:left;\">Method</th><th style=\"text-align:left;\">Description</th></tr>\n",
    "</thead>\n",
    "<tbody>\n",
    "    \n",
    "<tr><td style=\"text-align:left;\">hold()</td><td width=\"800\" style=\"vertical-align:top; text-align:left;\">\n",
    "This will set the component into a scheduled state and add it to the FEL\n",
    "</td></tr> \n",
    "    \n",
    "<tr><td style=\"text-align:left;\">cancel()</td><td style=\"text-align:left;\">\n",
    "This will remove the component from the FEL (if present) and set into a 'data' state\n",
    "</td></tr>\n",
    "    \n",
    "<tr><td style=\"text-align:left;\">activate()</td><td style=\"text-align:left;\">\n",
    "This sets a component onto the FEL in a scheduled state for the last event time<br>\n",
    "When activated it continues from its (interrupted) process interaction yield statement.<br>\n",
    "If the component was 'data' the process method is reactivated and the component turns live    \n",
    "</td></tr>\n",
    "    \n",
    "<tr><td style=\"text-align:left;\">passivate()</td><td style=\"text-align:left;\">\n",
    "Passivate is the way to make a, usually current, component passive.<br>\n",
    "This is essentially the same as calling yield self.hold(duration=inf)\n",
    "</td></tr>    \n",
    "    \n",
    "<tr><td style=\"text-align:left;\">request()</td><td style=\"text-align:left;\">\n",
    "Request has the effect that the component will check whether the requested quantity from a resource is available.\n",
    "</td></tr>\n",
    "    \n",
    "\n",
    "<tr><td style=\"text-align:left;\">interrupt()</td><td style=\"text-align:left;\">\n",
    "With interrupt components that are not current or data can be temporarily be interrupted.<br>\n",
    "</td></tr>\n",
    "    \n",
    "<tr><td style=\"text-align:left;\">resume()</td><td style=\"text-align:left;\">\n",
    "Once a resume is called for the component, the component will continue<br>\n",
    "For scheduled with the remaining time, for waiting or requesting possibly with the remaining fail_at duration.</td></tr>   \n",
    "    \n",
    "    \n",
    "<tr><td style=\"text-align:left;\">standby()</td><td style=\"text-align:left;\">\n",
    "Standby has the effect that the component will be triggered on the next simulation event.\n",
    "</td></tr>               \n",
    "    \n",
    "<tr><td style=\"text-align:left;\">wait()</td><td style=\"text-align:left;\">\n",
    "Wait has the effect that the component will check whether the value of a state meets a given condition\n",
    "</td></tr>     \n",
    "    \n",
    "</tbody>\n",
    "</table>\n",
    "<br>"
   ]
  },
  {
   "cell_type": "markdown",
   "id": "c4553e0e",
   "metadata": {},
   "source": [
    "#### <font color=blue>Future Event List (FEL)</font>"
   ]
  },
  {
   "cell_type": "markdown",
   "id": "e2174527",
   "metadata": {},
   "source": [
    "The mechanism that drives the scheduling of the events in salabim is the Future Event List <br>\n",
    "This is a list (technically a heapq) of events sorted by a tuple (time, priority, sequence) where: <br>\n",
    "\n",
    "- time is the activation time\n",
    "- priority is the given priority\n",
    "- sequence is a continously increasing counter for each placement on the future event list). <br>\n",
    "  When urgent is applied, the sequence is negated.\n",
    "  \n",
    "The FEL is not intended for salabim users but can be very usefull for understanding its inner workings<br>\n",
    "The contents of the FEL can be viewed by calling env._event_list <br>"
   ]
  },
  {
   "cell_type": "markdown",
   "id": "af797ac7",
   "metadata": {},
   "source": [
    "Only when the time of the next event of a component is known it is placed on the (FEL) <br>\n",
    "Most commonly this is 'scheduled', but could also be a 'requesting' or 'waiting' state (with a fail_at or fail_delay) <br>\n",
    "\n",
    "The components on the FEL are ordered according to their (re-activation) time and priority <br>\n",
    "The system state can be changed in between the activation from one component on the FEL to the next <br>\n",
    "In this instanteneous (or current) state, new (future) events can be created and variables or attributes set<br>\n",
    "When the component changes its 'current' state (by inevitably encountering a yield statement within its process)<br>\n",
    "The FEL is updated with the new events (if generated) and finally the first component on the FEL is re-activated <br>\n",
    "The component then resumes its process (where it left from the yield) in a 'current' state and repeats the process.\n"
   ]
  },
  {
   "cell_type": "markdown",
   "id": "eb482d65",
   "metadata": {},
   "source": [
    "### <font color=green><mark>Defined State: Data</font></mark>"
   ]
  },
  {
   "cell_type": "markdown",
   "id": "c0299ce0",
   "metadata": {},
   "source": [
    "**For a component to be in the state of 'data' just means that its process method is no longer active<br>**\n",
    "It either reached the end of its instructions or it was cancelled by another component"
   ]
  },
  {
   "cell_type": "markdown",
   "id": "eb8d151c",
   "metadata": {},
   "source": [
    "In below example there are two component clases defined <br>\n",
    "A Person class which is defined to be in a scheduled state from 0 to 3<br>\n",
    "At time=3 the instantiated \"Person\" p1 terminates and becomes 'data '<br>\n",
    "A Checker class which is in a scheduled state every 1 time unit<br>\n",
    "The instantiated checker prints uit the state of p1 each time it becomes current (after 1 time unit)<br>\n"
   ]
  },
  {
   "cell_type": "code",
   "execution_count": 16,
   "id": "67105852",
   "metadata": {
    "collapsed": true
   },
   "outputs": [
    {
     "name": "stdout",
     "output_type": "stream",
     "text": [
      "line#        time current component    action                               information\n",
      "------ ---------- -------------------- -----------------------------------  ------------------------------------------------\n",
      "                                       line numbers refers to               4105219571.py\n",
      "   13                                  default environment initialize       \n",
      "   13                                  main create                          \n",
      "   13       0.000 main                 current                              \n",
      "   15                                  person.0 create                      \n",
      "   15                                  person.0 activate                    scheduled for 0.000 @    4+ process=process\n",
      "   17                                  checker.0 create                     \n",
      "   17                                  checker.0 activate                   scheduled for 0.000 @    8+ process=process\n",
      "   19                                  main run +5.000                      scheduled for 5.000 @   19+\n",
      "    4+      0.000 person.0             current                              \n",
      "    5                                  person.0 hold +3.000                 scheduled for 3.000 @    5+\n",
      "    8+      0.000 checker.0            current                              \n",
      "   10                                  checker.0 hold +1.000                scheduled for 1.000 @   10+\n",
      "   10+      1.000 checker.0            current                              \n",
      "At time 1.0 the state of Person (person.0) is scheduled\n",
      "   10                                  checker.0 hold +1.000                scheduled for 2.000 @   10+\n",
      "   10+      2.000 checker.0            current                              \n",
      "At time 2.0 the state of Person (person.0) is scheduled\n",
      "   10                                  checker.0 hold +1.000                scheduled for 3.000 @   10+\n",
      "    5+      3.000 person.0             current                              \n",
      "    5+                                 person.0 ended                       \n",
      "   10+      3.000 checker.0            current                              \n",
      "At time 3.0 the state of Person (person.0) is data\n",
      "   10                                  checker.0 hold +1.000                scheduled for 4.000 @   10+\n",
      "   10+      4.000 checker.0            current                              \n",
      "At time 4.0 the state of Person (person.0) is data\n",
      "   10                                  checker.0 hold +1.000                scheduled for 5.000 @   10+\n",
      "   10+      5.000 checker.0            current                              \n",
      "At time 5.0 the state of Person (person.0) is data\n",
      "   10                                  checker.0 hold +1.000                scheduled for 6.000 @   10+\n",
      "   19+      5.000 main                 current                              \n"
     ]
    }
   ],
   "source": [
    "import salabim as sim\n",
    "\n",
    "class Person(sim.Component):\n",
    "    def process(self):        \n",
    "        yield self.hold(3)\n",
    "        \n",
    "class Checker(sim.Component):\n",
    "    def process(self):   \n",
    "        while True:\n",
    "            yield self.hold(1)   \n",
    "            print(f'At time {env.now()} the state of {p0} is {p0.status()}')\n",
    "\n",
    "env=sim.Environment(trace=True)\n",
    "\n",
    "p0=Person()\n",
    "\n",
    "Checker()\n",
    "\n",
    "env.run(5)\n"
   ]
  },
  {
   "cell_type": "markdown",
   "id": "b9d59205",
   "metadata": {},
   "source": [
    "The person p0 can be reactivated only through the method(s) other component(s) (it cannot reactivate it self)<br>\n",
    "Below we added some logic in the checker class to activate p0 at time=5 if it is 'data'<br>\n",
    "We now let the simulation run until time=10 "
   ]
  },
  {
   "cell_type": "code",
   "execution_count": 18,
   "id": "c821d301",
   "metadata": {
    "collapsed": true
   },
   "outputs": [
    {
     "name": "stdout",
     "output_type": "stream",
     "text": [
      "At time 1.0 the state of Person (person.0) is scheduled\n",
      "At time 2.0 the state of Person (person.0) is scheduled\n",
      "At time 3.0 the state of Person (person.0) is data\n",
      "At time 4.0 the state of Person (person.0) is data\n",
      "At time 5.0 the state of Person (person.0) is data\n",
      "At time 6.0 the state of Person (person.0) is scheduled\n",
      "At time 7.0 the state of Person (person.0) is scheduled\n",
      "At time 8.0 the state of Person (person.0) is data\n",
      "At time 9.0 the state of Person (person.0) is data\n",
      "At time 10.0 the state of Person (person.0) is data\n"
     ]
    }
   ],
   "source": [
    "import salabim as sim\n",
    "\n",
    "class Person(sim.Component):\n",
    "    def process(self):        \n",
    "        yield self.hold(3)\n",
    "        \n",
    "class Checker(sim.Component):\n",
    "    def process(self):   \n",
    "        while True:\n",
    "            yield self.hold(1)   \n",
    "            print(f'At time {env.now()} the state of {p0} is {p0.status()}')\n",
    "            \n",
    "            if env.now()==5 and p0.status()=='data':\n",
    "                p1.activate()\n",
    "\n",
    "env=sim.Environment()\n",
    "\n",
    "p0=Person()\n",
    "\n",
    "Checker()\n",
    "\n",
    "env.run(10)\n"
   ]
  },
  {
   "cell_type": "markdown",
   "id": "48ffb95c",
   "metadata": {},
   "source": [
    "### <font color=green><mark>Defined State: Current</font></mark>"
   ]
  },
  {
   "cell_type": "markdown",
   "id": "2a40fb4f",
   "metadata": {},
   "source": [
    "The 'current' state in salabim is an important concept to understand.\n",
    "\n",
    "- It is 'instantenous' and where all the progam logic is executed \n",
    "- It is where components interact and can change (each others) 'state'\n",
    "- It takes place before the next progression in time is made on the FEL\n",
    "- It is never needed (nor called) by the user as it is only a consequence of certain process interaction(s)\n",
    "\n",
    "**A component can get into a current state:**\n",
    "    \n",
    " - After it comes out of a scheduled state (from the FEL)\n",
    " - When it is triggered or 'activated' by another component    \n",
    "   \n",
    "Note that there can only be one component in a current state at any moment in time!!\n",
    "\n",
    "<font color=red> *Note: When all instantaneous logic is exhausted for a particular component it needs to change its 'current' state state before the next component on the FEL (with same activation time) can be re-activated (into its own current state) In this manner the current state can be transferred between components before a component on the FEL has a later activation time. This is the driver of the progressesion of (the simulation) time.</font>\n"
   ]
  },
  {
   "cell_type": "markdown",
   "id": "9ca5260d",
   "metadata": {},
   "source": [
    "Take the following example, only when p0 comes out of its hold will it be in a current state<br>\n",
    "For an \"instantenous\" moment, it prints out its state and then returns to the scheduled hold state.<br>"
   ]
  },
  {
   "cell_type": "code",
   "execution_count": 1,
   "id": "a82a96f3",
   "metadata": {},
   "outputs": [
    {
     "name": "stdout",
     "output_type": "stream",
     "text": [
      "I am current\n",
      "I am current\n",
      "I am current\n"
     ]
    }
   ],
   "source": [
    "import salabim as sim\n",
    "\n",
    "class Person(sim.Component):\n",
    "    def process(self):        \n",
    "        self.number_of_holds=0\n",
    "        while True:\n",
    "            yield self.hold(1)     \n",
    "            print(f'I am {self.status()}')     \n",
    "            \n",
    "env=sim.Environment()\n",
    "\n",
    "p0=Person()\n",
    "\n",
    "env.run(3)"
   ]
  },
  {
   "cell_type": "markdown",
   "id": "086d05ab",
   "metadata": {},
   "source": [
    "The current state can only end when another process interaction yield statement is encountered within its process.<br>\n",
    "In below example after p1 comes out of its firsts hold it is 'current' but immediately thereafter becomes 'scheduled'<br>"
   ]
  },
  {
   "cell_type": "code",
   "execution_count": 2,
   "id": "dc9c342f",
   "metadata": {},
   "outputs": [
    {
     "name": "stdout",
     "output_type": "stream",
     "text": [
      "At time 1.0 the state of person.0 is current\n",
      "At time 1.0 the state of person.0 is scheduled\n",
      "At time 2.0 the state of person.0 is scheduled\n",
      "At time 3.0 the state of person.0 is current\n",
      "At time 3.0 the state of person.0 is scheduled\n",
      "At time 4.0 the state of person.0 is scheduled\n",
      "At time 5.0 the state of person.0 is current\n",
      "At time 5.0 the state of person.0 is scheduled\n"
     ]
    }
   ],
   "source": [
    "import salabim as sim\n",
    "\n",
    "class Person(sim.Component):\n",
    "    def process(self):        \n",
    "        self.number_of_holds=0\n",
    "        while True:\n",
    "            yield self.hold(1)     \n",
    "            print(f'At time {env.now()} the state of {self.name()} is {self.status()}')    \n",
    "            yield self.hold(1) \n",
    "            \n",
    "class Checker(sim.Component):\n",
    "    def process(self):   \n",
    "        while True:\n",
    "            yield self.hold(1)   \n",
    "            print(f'At time {env.now()} the state of {p0.name()} is {p0.status()}')    \n",
    "\n",
    "env=sim.Environment()\n",
    "\n",
    "p0=Person()\n",
    "Checker()\n",
    "\n",
    "env.run(5)"
   ]
  },
  {
   "cell_type": "markdown",
   "id": "e88c04a1",
   "metadata": {},
   "source": [
    "### <font color=green><mark>Defined State: Scheduled</font></mark>"
   ]
  },
  {
   "cell_type": "markdown",
   "id": "eaadb7c6",
   "metadata": {},
   "source": [
    "**A component is scheduled when it is known in advance when its next event takes place <br>**\n",
    "In salabim a component can become become scheduled through the methods hold, activate and resume<br>\n",
    "\n",
    "Each component that hits a yield with any of these methods is added to the FEL <br>\n",
    "All components on the FEL are then (re)ordered for activation time and priority<br>\n"
   ]
  },
  {
   "cell_type": "markdown",
   "id": "60fa5563",
   "metadata": {},
   "source": [
    "As an example we show Persons which are instantiated by the Checker process\n",
    "Each person is activated per time increment and this is seen in the FEL "
   ]
  },
  {
   "cell_type": "code",
   "execution_count": 7,
   "id": "7f35bc61",
   "metadata": {},
   "outputs": [
    {
     "name": "stdout",
     "output_type": "stream",
     "text": [
      "At time 0.0 FEL [(0.0, 0, 3, 'person.0'), (5, inf, 2, 'main')]\n",
      "At time 1.0 FEL [(1.0, 0, 5, 'person.0'), (5, inf, 2, 'main'), (1.0, 0, 6, 'person.1')]\n",
      "At time 2.0 FEL [(2.0, 0, 8, 'person.1'), (5, inf, 2, 'main'), (2.0, 0, 9, 'person.2')]\n",
      "At time 3.0 FEL [(3.0, 0, 11, 'person.2'), (5, inf, 2, 'main'), (3.0, 0, 12, 'person.3')]\n",
      "At time 4.0 FEL [(4.0, 0, 14, 'person.3'), (5, inf, 2, 'main'), (4.0, 0, 15, 'person.4')]\n",
      "At time 5.0 FEL [(5.0, 0, 17, 'person.4'), (5, inf, 2, 'main'), (5.0, 0, 18, 'person.5')]\n"
     ]
    }
   ],
   "source": [
    "import salabim as sim\n",
    "\n",
    "class Person(sim.Component):\n",
    "    def process(self):\n",
    "        yield self.hold(1)            \n",
    "            \n",
    "class Checker(sim.Component):\n",
    "    def process(self):           \n",
    "        while True:\n",
    "            Person()\n",
    "            print(f'At time {env.now()} FEL {[(i[0],i[1],i[2],i[3].name()) for i in env._event_list]}')   \n",
    "            yield self.hold(1)   \n",
    "            \n",
    "env=sim.Environment()\n",
    "\n",
    "Checker()\n",
    "\n",
    "env.run(5)"
   ]
  },
  {
   "cell_type": "markdown",
   "id": "6128eabf",
   "metadata": {},
   "source": [
    "Note that the component 'main' is automatically generted and controls the simulation, it will be activated at time=5"
   ]
  },
  {
   "cell_type": "markdown",
   "id": "32406273",
   "metadata": {},
   "source": [
    "### <font color=green><mark>Defined State: Passive</font></mark>"
   ]
  },
  {
   "cell_type": "markdown",
   "id": "a9835372",
   "metadata": {},
   "source": [
    "**A component is passive when it is scheduled for time=inf which is essentially in a infenite hold.<br>**\n",
    "A component can passivate itself (as below) or can be passivated by another component.<br>\n",
    "Reactivation can only be done by another component (it cannot 'wake'itself up from sleep)<br>\n",
    "When the state of the component is scheduled, it is removed from the FEL\n"
   ]
  },
  {
   "cell_type": "markdown",
   "id": "e40eee64",
   "metadata": {},
   "source": [
    "In order to show the passive state of p0 another process i.e. component 'checker' is instantiated<br>\n",
    "This process also re-activates p0, which stays in a sleeping state at line 7, until it is (re) activated.<br>"
   ]
  },
  {
   "cell_type": "code",
   "execution_count": 3,
   "id": "8524a74a",
   "metadata": {},
   "outputs": [
    {
     "name": "stdout",
     "output_type": "stream",
     "text": [
      "At time 3.0 checker.0 activated person.0 from state: passive\n",
      "At time 3.0 person.0 was woken up, its status is: current\n",
      "At time 6.0 checker.0 activated person.0 from state: passive\n",
      "At time 6.0 person.0 was woken up, its status is: current\n"
     ]
    }
   ],
   "source": [
    "import salabim as sim\n",
    "\n",
    "class Person(sim.Component):\n",
    "    def process(self):        \n",
    "        while True:\n",
    "            yield self.hold(1)                 \n",
    "            yield self.passivate()            \n",
    "            print(f'At time {env.now()} {self.name()} was woken up, its status is: {self.status()}')                 \n",
    "            \n",
    "class Checker(sim.Component):\n",
    "    def process(self):   \n",
    "        while True:\n",
    "            yield self.hold(3)   \n",
    "            print(f'At time {env.now()} {self.name()} activated {p0.name()} from state: {p0.status()}')      \n",
    "            p0.activate()\n",
    "            \n",
    "env=sim.Environment()\n",
    "\n",
    "p0=Person()\n",
    "checker=Checker()\n",
    "env.run(6)"
   ]
  },
  {
   "cell_type": "markdown",
   "id": "a4a6dda8",
   "metadata": {},
   "source": [
    "### <font color=green><mark>Defined State: Requesting</font></mark>"
   ]
  },
  {
   "cell_type": "markdown",
   "id": "94fa4e21",
   "metadata": {},
   "source": [
    "A component can only be in a 'requesting' state when <br>\n",
    "\n",
    "**Its request() method is called on an instance of the sim.Resource class**<br>\n",
    "\n",
    "A resource needs to be instantiated as follows:<br>\n",
    "- myresource=sim.Resource('myresource')<br>\n",
    "Then the request can be made by the component:<br>\n",
    "- yield self.request(myresource)<br>\n",
    "\n",
    "A resource is something that is in short supply and that needs to be 'requested' by a component<br>\n",
    "When this is not (sufficently) available, the component remains in a requesting state<br>\n",
    "But when sufficient capacity becomes available it continues from its yield and becomes 'current'<br>\n",
    "Note that when a component enters a yield request it has no effect on the FEL<br>\n",
    "The component is not 'scheduled' as it does not know in advance when it will be activated<br>\n",
    "\n",
    "Resources are a powerful way of process interaction (cannot be fully covered here) and are defined as per below:"
   ]
  },
  {
   "cell_type": "code",
   "execution_count": 4,
   "id": "a7474bbd",
   "metadata": {},
   "outputs": [
    {
     "name": "stdout",
     "output_type": "stream",
     "text": [
      "At time 1.0 the status of person.0 is: requesting\n",
      "At time 2.0 the status of person.0 is: requesting\n",
      "At time 3.0 the status of person.0 is: requesting\n",
      "At time 3.0 checker.0 set the ticket_office capacity to 1\n",
      "At time 4.0 the status of person.0 is: scheduled\n",
      "At time 5.0 the status of person.0 is: data\n"
     ]
    }
   ],
   "source": [
    "import salabim as sim\n",
    "\n",
    "class Person(sim.Component):\n",
    "    def process(self):         \n",
    "        yield self.hold(1)                 \n",
    "        yield self.request(ticket_office)    \n",
    "        yield self.hold(1,mode='buying ticket') \n",
    "        self.release()            \n",
    "            \n",
    "class Checker(sim.Component):\n",
    "    def process(self):   \n",
    "        while True:\n",
    "            yield self.hold(1)   \n",
    "            print(f'At time {env.now()} the status of {p0.name()} is: {p0.status()}')  \n",
    "            if env.now()==3:\n",
    "                ticket_office.set_capacity(cap=1)\n",
    "                print(f'At time {env.now()} {self.name()} set the ticket_office capacity to {ticket_office.capacity()}')               \n",
    "          \n",
    "env=sim.Environment()\n",
    "\n",
    "p0=Person()\n",
    "checker=Checker()\n",
    "\n",
    "ticket_office=sim.Resource(name='ticket_office',capacity=0)\n",
    "\n",
    "env.run(5)"
   ]
  },
  {
   "cell_type": "markdown",
   "id": "a777b4f6",
   "metadata": {},
   "source": [
    "In above example at time=3 the capacity of the resource is increased to 1<br>\n",
    "This causes p0 to be able to claim from the resource at time=3 to get status 'current'<br>\n",
    "It immediately goes into a scheduled state when it encounters the yield self.hold(1) to buy the ticket<br>\n",
    "After it buys the ticket the resource is released (so its no longer claiming the resource)<br>\n",
    "Because it reaches the end of its process method p1 now has become status 'data<br>"
   ]
  },
  {
   "cell_type": "markdown",
   "id": "a19a9fe3",
   "metadata": {},
   "source": [
    "### <font color=green><mark>Defined State: Waiting</font></mark>"
   ]
  },
  {
   "cell_type": "markdown",
   "id": "248b89a1",
   "metadata": {},
   "source": [
    "A component can only be in a 'waiting' state when \n",
    "\n",
    "**Its wait() method is called on an instance of the sim.State class**<br>\n",
    "\n",
    "A state needs to be instantiated as follows:<br>\n",
    "- mystate=sim.State('mystate')<br>\n",
    "Then the component can wait for mystate to reach a certain condition: <br>\n",
    "- yield self.wait(mystate)<br>\n",
    "\n",
    "Each time the value of mystate is (re)set within the program the yield wait is checked.<br>\n",
    "When the value of the state meets the condition the component becomes current<br>\n",
    "If the value does not meet the condition the component remains in state of 'waiting' <br>\n",
    "In this context mystate is (default) a boolean but can be anything (string/float/int etc)<br>\n",
    "\n",
    "States are a powerful way of process interaction (cannot be fully covered here)"
   ]
  },
  {
   "cell_type": "code",
   "execution_count": 5,
   "id": "4876d10f",
   "metadata": {},
   "outputs": [
    {
     "name": "stdout",
     "output_type": "stream",
     "text": [
      "At time 1.0 the status of person.0 is: waiting\n",
      "At time 2.0 the status of person.0 is: waiting\n",
      "At time 3.0 the status of person.0 is: waiting\n",
      "At time 3.0 checker.0 sets the ticket_office capacity to True\n",
      "At time 4.0 the status of person.0 is: scheduled\n",
      "At time 5.0 the status of person.0 is: data\n"
     ]
    }
   ],
   "source": [
    "import salabim as sim\n",
    "\n",
    "class Person(sim.Component):\n",
    "    def process(self):         \n",
    "        yield self.hold(1)                 \n",
    "        yield self.wait(ticket_office)    \n",
    "        yield self.hold(1,mode='buying ticket') \n",
    "        ticket_office.reset()\n",
    "            \n",
    "class Checker(sim.Component):\n",
    "    def process(self):   \n",
    "        while True:\n",
    "            yield self.hold(1)   \n",
    "            print(f'At time {env.now()} the status of {p0.name()} is: {p0.status()}')  \n",
    "            if env.now()==3:\n",
    "                ticket_office.set()\n",
    "                print(f'At time {env.now()} {self.name()} sets the ticket_office capacity to {ticket_office()}')               \n",
    "          \n",
    "env=sim.Environment()\n",
    "\n",
    "p0=Person()\n",
    "checker=Checker()\n",
    "\n",
    "ticket_office=sim.State(name='ticket_office')\n",
    "\n",
    "env.run(5)"
   ]
  },
  {
   "cell_type": "markdown",
   "id": "c1215a49",
   "metadata": {},
   "source": [
    "### <font color=green><mark>Defined State: Standby</font></mark>"
   ]
  },
  {
   "cell_type": "markdown",
   "id": "1e352bf9",
   "metadata": {},
   "source": [
    "**A component can only be in a 'standby' state when a yield self.standby() method is called.** <br>\n",
    "\n",
    "This has the effect that the component will continue from its yield for each simulation event.<br>\n",
    "If another event happens the component will become 'current' otherwise it will remain in a state of 'standby'\n",
    "\n",
    "This can be a very efficient way to check for a certain condition but ut can be expensive in terms of cpu <br>\n",
    "\n",
    "In below example mycar has no events scheduled it is only in standby mode waiting for other events to happen<br>\n",
    "Each time a simulation event of mybike occurs it releases mycar from its 'standby' state into a 'current' state<br>\n",
    "Note that 'the current' state is instantanous as it immediately loops back into a state of 'standy'"
   ]
  },
  {
   "cell_type": "code",
   "execution_count": 22,
   "id": "ea1149e2",
   "metadata": {},
   "outputs": [
    {
     "name": "stdout",
     "output_type": "stream",
     "text": [
      "At time 0.0 car.0 came out of standby\n",
      "At time 1.0 car.0 came out of standby\n",
      "At time 2.0 car.0 came out of standby\n",
      "At time 3.0 car.0 came out of standby\n"
     ]
    }
   ],
   "source": [
    "import salabim as sim\n",
    "\n",
    "class Car(sim.Component):   \n",
    "    def process(self): \n",
    "        while True:\n",
    "            yield self.standby(mode='waiting')\n",
    "            print(f'At time {env.now()} {self.name()} came out of standby') \n",
    "            \n",
    "class Bike(sim.Component):\n",
    "    def process(self): \n",
    "        while True:\n",
    "            yield self.hold(1,mode='drive') \n",
    "            yield self.hold(1,mode='stop') \n",
    "\n",
    "env=sim.Environment()\n",
    "mycar=Car()\n",
    "mybike=Bike()\n",
    "            \n",
    "env.run(3)"
   ]
  },
  {
   "cell_type": "markdown",
   "id": "3d567fbb",
   "metadata": {},
   "source": [
    "### <font color=green><mark>Defined State: Interrupted</font></mark>"
   ]
  },
  {
   "cell_type": "markdown",
   "id": "f6200954",
   "metadata": {},
   "source": [
    "Components can be interrupted with the yield self.interrupt() method.<br>\n",
    "This results in a component 'freezing' its process until it is resumed with the self.resume() method.<br>\n",
    "When the resume method is called the component continues where it was frozen in time, this can be: <br>\n",
    "\n",
    "- For a scheduled state  with the remaining time\n",
    "- for waiting or requesting possibly with the remaining fail_at duration\n",
    "\n",
    "As with passivate/activate, this can only be done by another component<br>\n",
    "Note that you can have 'stacked' interrupts which each need to be resumed before the component can continue:"
   ]
  },
  {
   "cell_type": "code",
   "execution_count": 9,
   "id": "f6a45587",
   "metadata": {
    "collapsed": true
   },
   "outputs": [
    {
     "name": "stdout",
     "output_type": "stream",
     "text": [
      "At time 1.0 the state of Person (person.0) is scheduled\n",
      "At time 1.0 the state of Person (person.0) is interrupted\n",
      "At time 2.0 the state of Person (person.0) is interrupted\n",
      "At time 3.0 the state of Person (person.0) is interrupted\n",
      "At time 3.0 the state of Person (person.0) is scheduled\n",
      "At time 4.0 the state of Person (person.0) is scheduled\n",
      "At time 5.0 the state of Person (person.0) is scheduled\n"
     ]
    }
   ],
   "source": [
    "import salabim as sim\n",
    "\n",
    "class Person(sim.Component):\n",
    "    def process(self):        \n",
    "        yield self.hold(5)               \n",
    "        \n",
    "class Checker(sim.Component):\n",
    "    def process(self):   \n",
    "        while True:\n",
    "            yield self.hold(1)   \n",
    "            print(f'At time {env.now()} the state of {p0} is {p0.status()}')\n",
    "            \n",
    "            if env.now()==1:\n",
    "                p0.interrupt()\n",
    "                print(f'At time {env.now()} the state of {p0} is {p0.status()}')\n",
    "            \n",
    "            if env.now()==3 and p0.status()=='interrupted':\n",
    "                p0.resume()\n",
    "                print(f'At time {env.now()} the state of {p0} is {p0.status()}')\n",
    "\n",
    "env=sim.Environment()\n",
    "\n",
    "p0=Person()\n",
    "\n",
    "Checker()\n",
    "\n",
    "env.run(5)\n"
   ]
  }
 ],
 "metadata": {
  "kernelspec": {
   "display_name": "Python 3 (ipykernel)",
   "language": "python",
   "name": "python3"
  },
  "language_info": {
   "codemirror_mode": {
    "name": "ipython",
    "version": 3
   },
   "file_extension": ".py",
   "mimetype": "text/x-python",
   "name": "python",
   "nbconvert_exporter": "python",
   "pygments_lexer": "ipython3",
   "version": "3.11.1"
  }
 },
 "nbformat": 4,
 "nbformat_minor": 5
}
